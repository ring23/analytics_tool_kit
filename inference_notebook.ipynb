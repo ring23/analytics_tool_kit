{
    "cells": [
        {
            "cell_type": "markdown",
            "metadata": {},
            "source": [
                "# Instructions\n",
                "This notebook is designed to run scoring on a saved model in Snowflake.\n",
                "Follow the steps in each cell to perform the inference."
            ]
        },
        {
            "cell_type": "code",
            "metadata": {},
            "execution_count": null,
            "outputs": [],
            "source": [
                "# Import necessary libraries\n",
                "from snowflake.snowpark import Session\n",
                "import pandas as pd\n"
            ]
        },
        {
            "cell_type": "code",
            "metadata": {
                "language": "sql"
            },
            "execution_count": null,
            "outputs": [],
            "source": [
                "-- Create Stream for Real-Time Inference\n",
                "CREATE OR REPLACE STREAM ANALYTICS_TOOL_KIT.PUBLIC.MYSICKSTREAM2 ON TABLE ANALYTICS_TOOL_KIT.PUBLIC.SCORING_TABLE SHOW_INITIAL_ROWS = TRUE APPEND_ONLY = TRUE;\n"
            ]
        },
        {
            "cell_type": "code",
            "metadata": {
                "language": "sql"
            },
            "execution_count": null,
            "outputs": [],
            "source": [
                "-- Select data from the Stream\n",
                "SELECT * FROM ANALYTICS_TOOL_KIT.PUBLIC.MYSICKSTREAM2 WHERE METADATA$ACTION = 'INSERT';\n"
            ]
        },
        {
            "cell_type": "code",
            "metadata": {
                "language": "sql"
            },
            "execution_count": null,
            "outputs": [],
            "source": [
                "-- Create `inference_table` and insert record when stream is triggered\n",
                "\n        CREATE OR REPLACE TABLE ANALYTICS_TOOL_KIT.PUBLIC.inference_table (\n            ID INT,\n            VALUE INT\n        );\n        \n",
                "\n        INSERT INTO ANALYTICS_TOOL_KIT.PUBLIC.inference_table (ID, Value)\n        SELECT 1,5;\n        \n"
            ]
        },
        {
            "cell_type": "code",
            "metadata": {
                "language": "sql"
            },
            "execution_count": null,
            "outputs": [],
            "source": [
                "-- Create Task for Real-Time Inference Trigger\n",
                "\n        CREATE OR REPLACE TASK ANALYTICS_TOOL_KIT.PUBLIC.MYSICKSTREAM2_task\n        WAREHOUSE = COMPUTE_WH\n        SCHEDULE = '1 MINUTE'\n        WHEN SYSTEM$STREAM_HAS_DATA('ANALYTICS_TOOL_KIT.PUBLIC.MYSICKSTREAM2')\n        AS\n        BEGIN\n            -- Execute stream logic to insert a record when data changes\n            INSERT INTO ANALYTICS_TOOL_KIT.PUBLIC.inference_table (ID, VALUE)\n            SELECT ID, 5\n            FROM ANALYTICS_TOOL_KIT.PUBLIC.MYSICKSTREAM2\n            WHERE METADATA$ACTION = 'INSERT';\n        END;\n        \n"
            ]
        },
        {
            "cell_type": "markdown",
            "metadata": {},
            "source": [
                "# Reminder\n",
                "After creating the task, go to Snowflake, find your task under the 'Tasks' section in the UI, and click the three dots in the top right corner, and click 'Resume' button in the top right corner to start the task."
            ]
        }
    ],
    "metadata": {
        "kernelspec": {
            "display_name": "Python 3",
            "language": "python",
            "name": "python3"
        },
        "language_info": {
            "codemirror_mode": {
                "name": "ipython",
                "version": 3
            },
            "file_extension": ".py",
            "mimetype": "text/x-python",
            "name": "python",
            "nbconvert_exporter": "python",
            "pygments_lexer": "ipython3",
            "version": "3.8"
        }
    },
    "nbformat": 4,
    "nbformat_minor": 5
}