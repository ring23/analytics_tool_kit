{
    "cells": [
        {
            "cell_type": "markdown",
            "metadata": {},
            "source": [
                "# Instructions\n",
                "This notebook is designed to run scoring on a saved model in Snowflake.\n",
                "Follow the steps in each cell to perform the inference."
            ]
        },
        {
            "cell_type": "code",
            "metadata": {},
            "execution_count": null,
            "outputs": [],
            "source": [
                "# Import necessary libraries\n",
                "from snowflake.snowpark import Session\n",
                "import pandas as pd\n"
            ]
        },
        {
            "cell_type": "code",
            "metadata": {
                "language": "sql"
            },
            "execution_count": null,
            "outputs": [],
            "source": [
                "-- Create Stream for Real-Time Inference\n",
                "CREATE OR REPLACE STREAM ANALYTICS_TOOL_KIT.PUBLIC.MYSICKSTREAM2 ON TABLE ANALYTICS_TOOL_KIT.PUBLIC.SCORING_TABLE SHOW_INITIAL_ROWS = TRUE APPEND_ONLY = TRUE;\n"
            ]
        },
        {
            "cell_type": "code",
            "metadata": {
                "language": "sql"
            },
            "execution_count": null,
            "outputs": [],
            "source": [
                "-- Select data from the Stream\n",
                "SELECT * FROM ANALYTICS_TOOL_KIT.PUBLIC.MYSICKSTREAM2 WHERE METADATA$ACTION = 'INSERT';\n"
            ]
        },
        {
            "cell_type": "code",
            "metadata": {},
            "execution_count": null,
            "outputs": [],
            "source": [
                "# Execute the query and load the results into a Snowpark DataFrame\n",
                "# Ensure the session is already initialized in the notebook environment\n",
                "df_snowflake = session.sql('SELECT * FROM {database}.{schema}.{stream_name} WHERE METADATA$ACTION = 'INSERT'').to_pandas()\n",
                "df_snowflake.head()\n"
            ]
        }
    ],
    "metadata": {
        "kernelspec": {
            "display_name": "Python 3",
            "language": "python",
            "name": "python3"
        },
        "language_info": {
            "codemirror_mode": {
                "name": "ipython",
                "version": 3
            },
            "file_extension": ".py",
            "mimetype": "text/x-python",
            "name": "python",
            "nbconvert_exporter": "python",
            "pygments_lexer": "ipython3",
            "version": "3.8"
        }
    },
    "nbformat": 4,
    "nbformat_minor": 5
}